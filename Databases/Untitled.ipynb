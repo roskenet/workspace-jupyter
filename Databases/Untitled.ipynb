{
 "cells": [
  {
   "cell_type": "code",
   "execution_count": 1,
   "id": "3f767d79-0e7a-4df5-a5c4-38b89ffae94d",
   "metadata": {},
   "outputs": [],
   "source": [
    "from builtins import print\n",
    "from psycopg2 import connect"
   ]
  },
  {
   "cell_type": "code",
   "execution_count": 4,
   "id": "799b1221-3202-400b-ac7b-99737887736b",
   "metadata": {},
   "outputs": [],
   "source": [
    "conn = connect(\n",
    "    host=\"localhost\",\n",
    "    database=\"felix\",\n",
    "    user=\"felix\",\n",
    "    password=\"password\")"
   ]
  },
  {
   "cell_type": "code",
   "execution_count": 5,
   "id": "46cc23fe-f1b3-441a-b0a4-4c8a48670a3d",
   "metadata": {},
   "outputs": [],
   "source": [
    "cur = conn.cursor()\n",
    "\n",
    "# execute a statement\n",
    "cur.execute('SELECT * FROM test')"
   ]
  },
  {
   "cell_type": "code",
   "execution_count": 6,
   "id": "09828190-54f0-4733-baf7-fbdc6443e215",
   "metadata": {},
   "outputs": [
    {
     "name": "stdout",
     "output_type": "stream",
     "text": [
      "(1, 'Blubber', 1234)\n",
      "None\n"
     ]
    }
   ],
   "source": [
    "result = cur.fetchone()\n",
    "print(result)\n",
    "fetchone = cur.fetchone()\n",
    "print(fetchone)"
   ]
  },
  {
   "cell_type": "code",
   "execution_count": 7,
   "id": "3626e72d-2be4-42e3-91aa-550091f93e6e",
   "metadata": {},
   "outputs": [],
   "source": [
    "cur.close()"
   ]
  },
  {
   "cell_type": "code",
   "execution_count": null,
   "id": "f62a4d42-dfed-44a7-a573-f98811d026b4",
   "metadata": {},
   "outputs": [],
   "source": []
  }
 ],
 "metadata": {
  "kernelspec": {
   "display_name": "Python 3",
   "language": "python",
   "name": "python3"
  },
  "language_info": {
   "codemirror_mode": {
    "name": "ipython",
    "version": 3
   },
   "file_extension": ".py",
   "mimetype": "text/x-python",
   "name": "python",
   "nbconvert_exporter": "python",
   "pygments_lexer": "ipython3",
   "version": "3.7.9"
  }
 },
 "nbformat": 4,
 "nbformat_minor": 5
}
