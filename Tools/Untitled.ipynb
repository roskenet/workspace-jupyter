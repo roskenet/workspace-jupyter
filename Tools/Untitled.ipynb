{
 "cells": [
  {
   "cell_type": "markdown",
   "id": "899ee4cd",
   "metadata": {},
   "source": [
    "# Using GnuPG"
   ]
  },
  {
   "cell_type": "code",
   "execution_count": 1,
   "id": "5881a29e",
   "metadata": {},
   "outputs": [
    {
     "name": "stdout",
     "output_type": "stream",
     "text": [
      "-----BEGIN PGP MESSAGE-----\n",
      "\n",
      "hQEMA282Yc9clTaQAQgAlNR2U1wYKecxmFA4w830mbk2OyqH9zipJ52gVQnawZ4q\n",
      "PXSPZXRAMmt4JXgLciSCbhW7TIZQE5bCk4+9slKnSKX+3/ktFITP87wmJ4nrinoY\n",
      "JEXf1iU41MltHPvpuF09tLABN0EWR+e7c91c6I+4xnKbGWmxg/oELM20wt8ZrVRr\n",
      "ccBa2ZSTW6Pa87KuckOu0tISQYGTPxPUEYEfLywmSar38TE784DYF1yVRbl8xh94\n",
      "CuRbDj9IE5LRPN7rEa2J8NR6cIBcSEAJhQOk4wIELn3Pl5Wy5FVITleswHJVcRjn\n",
      "u6t8dOgQpzQp/09Uh7kkx0SDSWgYQ7ZCqk/KVnJ9zNJLAaqqBpB4kdCEfs2zOL1s\n",
      "FCdEhVnJbNma/5wMXuKr5gH/b83m2BPF44+uqGW47aNCH3iBk6plGQI7BAFmEfcs\n",
      "LFS+HnL7Ni8GZlGa\n",
      "=deCV\n",
      "-----END PGP MESSAGE-----\n"
     ]
    }
   ],
   "source": [
    "echo -n 'MySecretPassword' | gpg -a -r felix@roskenet.de -e"
   ]
  },
  {
   "cell_type": "code",
   "execution_count": 2,
   "id": "fc6aba8f",
   "metadata": {},
   "outputs": [
    {
     "name": "stdout",
     "output_type": "stream",
     "text": [
      "gpg: encrypted with 2048-bit RSA key, ID 6F3661CF5C953690, created 2014-01-22\n",
      "      \"Felix Roske <felix.roske@roskenet.de>\"\n"
     ]
    }
   ],
   "source": [
    "echo -n '-----BEGIN PGP MESSAGE-----\n",
    "\n",
    "hQEMA282Yc9clTaQAQgAlNR2U1wYKecxmFA4w830mbk2OyqH9zipJ52gVQnawZ4q\n",
    "PXSPZXRAMmt4JXgLciSCbhW7TIZQE5bCk4+9slKnSKX+3/ktFITP87wmJ4nrinoY\n",
    "JEXf1iU41MltHPvpuF09tLABN0EWR+e7c91c6I+4xnKbGWmxg/oELM20wt8ZrVRr\n",
    "ccBa2ZSTW6Pa87KuckOu0tISQYGTPxPUEYEfLywmSar38TE784DYF1yVRbl8xh94\n",
    "CuRbDj9IE5LRPN7rEa2J8NR6cIBcSEAJhQOk4wIELn3Pl5Wy5FVITleswHJVcRjn\n",
    "u6t8dOgQpzQp/09Uh7kkx0SDSWgYQ7ZCqk/KVnJ9zNJLAaqqBpB4kdCEfs2zOL1s\n",
    "FCdEhVnJbNma/5wMXuKr5gH/b83m2BPF44+uqGW47aNCH3iBk6plGQI7BAFmEfcs\n",
    "LFS+HnL7Ni8GZlGa\n",
    "=deCV\n",
    "-----END PGP MESSAGE-----' | gpg -d"
   ]
  },
  {
   "cell_type": "markdown",
   "id": "155cd576",
   "metadata": {},
   "source": []
  }
 ],
 "metadata": {
  "kernelspec": {
   "display_name": "Z shell",
   "language": "zsh",
   "name": "zsh"
  },
  "language_info": {
   "codemirror_mode": "shell",
   "file_extension": ".zsh",
   "mimetype": "text/x-zsh",
   "name": "zsh",
   "pygments_lexer": "shell",
   "version": "5.7.1"
  }
 },
 "nbformat": 4,
 "nbformat_minor": 5
}
