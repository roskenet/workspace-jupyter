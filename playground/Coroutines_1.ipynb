{
 "cells": [
  {
   "cell_type": "code",
   "execution_count": 5,
   "metadata": {},
   "outputs": [],
   "source": [
    "@file:Repository(\"https://repo1.maven.org/maven2\")\n",
    "@file:DependsOn(\"org.jetbrains.kotlinx:kotlinx-coroutines-core:1.3.9\")"
   ]
  },
  {
   "cell_type": "raw",
   "metadata": {},
   "source": [
    "http://jcenter.bintray.com"
   ]
  },
  {
   "cell_type": "code",
   "execution_count": 14,
   "metadata": {},
   "outputs": [
    {
     "name": "stdout",
     "output_type": "stream",
     "text": [
      "Start\n",
      "Finished Workload\n",
      "Hello\n",
      "Stop\n"
     ]
    }
   ],
   "source": [
    "import kotlinx.coroutines.*\n",
    "\n",
    "suspend fun workload(n: Int): Int {\n",
    "    delay(500)\n",
    "    return n\n",
    "}\n",
    "\n",
    "println(\"Start\")\n",
    "\n",
    "// Start a coroutine\n",
    "GlobalScope.launch {\n",
    "    \n",
    "    var myInt = async {\n",
    "        workload(1234)\n",
    "        println(\"Finished Workload\")\n",
    "    }\n",
    "    \n",
    "    delay(1000)\n",
    "    println(\"Hello\")\n",
    "}\n",
    "\n",
    "Thread.sleep(2000) // wait for 2 seconds\n",
    "println(\"Stop\")"
   ]
  },
  {
   "cell_type": "code",
   "execution_count": 10,
   "metadata": {},
   "outputs": [],
   "source": []
  },
  {
   "cell_type": "code",
   "execution_count": null,
   "metadata": {},
   "outputs": [],
   "source": []
  }
 ],
 "metadata": {
  "kernelspec": {
   "display_name": "Kotlin",
   "language": "kotlin",
   "name": "kotlin"
  },
  "language_info": {
   "codemirror_mode": "text/x-kotlin",
   "file_extension": ".kt",
   "mimetype": "text/x-kotlin",
   "name": "kotlin",
   "pygments_lexer": "kotlin",
   "version": "1.4.20-dev-2342"
  }
 },
 "nbformat": 4,
 "nbformat_minor": 4
}
