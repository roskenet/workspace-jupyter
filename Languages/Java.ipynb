{
 "cells": [
  {
   "cell_type": "code",
   "execution_count": 23,
   "id": "209db569",
   "metadata": {},
   "outputs": [],
   "source": [
    "public abstract class Car {\n",
    "    private String model;\n",
    "    private String manufacturer;\n",
    "    \n",
    "    Car(String manufacturer, String model) {\n",
    "        this.model = model;\n",
    "        this.manufacturer = manufacturer;\n",
    "    }\n",
    "    \n",
    "    public String getModel() {\n",
    "        return model; \n",
    "    }\n",
    "    \n",
    "    public String manufacturer() {\n",
    "        return manufacturer;\n",
    "    }\n",
    "}"
   ]
  },
  {
   "cell_type": "code",
   "execution_count": 28,
   "id": "5bcb2129-77b0-4583-ab9e-e2281acaaf08",
   "metadata": {},
   "outputs": [],
   "source": [
    "public class Limousine extends Car {\n",
    "    Limousine(String manu, String model) {\n",
    "        super(manu, model);\n",
    "    }\n",
    "}"
   ]
  },
  {
   "cell_type": "code",
   "execution_count": 31,
   "id": "a7109569",
   "metadata": {},
   "outputs": [],
   "source": [
    "Car myCar = new Limousine(\"BMW\", \"850i\")"
   ]
  },
  {
   "cell_type": "code",
   "execution_count": 32,
   "id": "615130d2-ad07-40b4-aced-161a948338c5",
   "metadata": {},
   "outputs": [
    {
     "name": "stdout",
     "output_type": "stream",
     "text": [
      "Wir haben also einen: BMW 850i\n"
     ]
    }
   ],
   "source": [
    "System.out.println(\"Wir haben also einen: \" + myCar.manufacturer() + \" \" + myCar.getModel());"
   ]
  },
  {
   "cell_type": "code",
   "execution_count": null,
   "id": "89a0623d-d2f7-4cf1-9748-0a37ab48e375",
   "metadata": {},
   "outputs": [],
   "source": []
  }
 ],
 "metadata": {
  "kernelspec": {
   "display_name": "Java",
   "language": "java",
   "name": "java"
  },
  "language_info": {
   "codemirror_mode": "java",
   "file_extension": ".jshell",
   "mimetype": "text/x-java-source",
   "name": "Java",
   "pygments_lexer": "java",
   "version": "11.0.6+8-LTS"
  }
 },
 "nbformat": 4,
 "nbformat_minor": 5
}
