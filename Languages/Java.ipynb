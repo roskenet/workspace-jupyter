{
 "cells": [
  {
   "cell_type": "code",
   "execution_count": 2,
   "id": "209db569",
   "metadata": {},
   "outputs": [],
   "source": [
    "public abstract class Car {\n",
    "    private String model;\n",
    "    private String manufacturer;\n",
    "    \n",
    "    public Car(String manufacturer, String model) {\n",
    "        this.model = model;\n",
    "        this.manufacturer = manufacturer;\n",
    "    }\n",
    "    \n",
    "    public String getModel() {\n",
    "        return model; \n",
    "    }\n",
    "    \n",
    "    public String manufacturer() {\n",
    "        return manufacturer;\n",
    "    }\n",
    "}"
   ]
  },
  {
   "cell_type": "code",
   "execution_count": 3,
   "id": "a7109569",
   "metadata": {},
   "outputs": [
    {
     "ename": "CompilationException",
     "evalue": "",
     "output_type": "error",
     "traceback": [
      "\u001b[1m\u001b[30m|   \u001b[1m\u001b[30mCar myCar = \u001b[0m\u001b[1m\u001b[30m\u001b[41mnew Car(\"BMW\", \"850i\")\u001b[0m\u001b[1m\u001b[30m;\u001b[0m",
      "\u001b[1m\u001b[31mCar is abstract; cannot be instantiated\u001b[0m",
      ""
     ]
    }
   ],
   "source": [
    "Car myCar = new Car(\"BMW\", \"850i\")"
   ]
  }
 ],
 "metadata": {
  "kernelspec": {
   "display_name": "Java",
   "language": "java",
   "name": "java"
  },
  "language_info": {
   "codemirror_mode": "java",
   "file_extension": ".jshell",
   "mimetype": "text/x-java-source",
   "name": "Java",
   "pygments_lexer": "java",
   "version": "11.0.6+8-LTS"
  }
 },
 "nbformat": 4,
 "nbformat_minor": 5
}
