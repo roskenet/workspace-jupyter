{
 "cells": [
  {
   "cell_type": "markdown",
   "id": "484a8a1d",
   "metadata": {},
   "source": [
    "# Kotlin Cookbook\n",
    "\n",
    "## Compile to native code\n",
    "\n",
    "```shell\n",
    "$ kotlinc-jvm hello.kt -include-runtime -d hello.jar\n",
    "$ native-image -jar hello.jar\n",
    "```"
   ]
  },
  {
   "cell_type": "code",
   "execution_count": null,
   "id": "c408f98e",
   "metadata": {},
   "outputs": [],
   "source": []
  }
 ],
 "metadata": {
  "kernelspec": {
   "display_name": "Kotlin",
   "language": "kotlin",
   "name": "kotlin"
  },
  "language_info": {
   "codemirror_mode": "text/x-kotlin",
   "file_extension": ".kt",
   "mimetype": "text/x-kotlin",
   "name": "kotlin",
   "pygments_lexer": "kotlin",
   "version": "1.4.20-dev-2342"
  }
 },
 "nbformat": 4,
 "nbformat_minor": 5
}
